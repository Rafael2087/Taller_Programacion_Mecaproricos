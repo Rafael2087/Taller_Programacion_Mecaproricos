{
 "cells": [
  {
   "cell_type": "markdown",
   "metadata": {},
   "source": [
    "# Taller_1\n",
    "Integrantes:\n",
    "* Rafael David Martinez Ovallos\n",
    "* Tomas Fernando Torres Gamboa\n",
    "* Dania Lorena Pérez Moreno\n",
    "\n",
    "\n"
   ]
  },
  {
   "cell_type": "markdown",
   "metadata": {},
   "source": [
    "### Punto3\n",
    "Determinar si un número es par o impar"
   ]
  },
  {
   "cell_type": "code",
   "execution_count": 10,
   "metadata": {},
   "outputs": [
    {
     "name": "stdout",
     "output_type": "stream",
     "text": [
      "El numero 86.0 es par\n"
     ]
    }
   ],
   "source": [
    "\n",
    "num_uno : float\n",
    "num_uno = float(input (\"Igrese un numero \"))\n",
    "if (num_uno % 2 ==0):\n",
    "    print (\"El numero \" + str(num_uno)+ \" es par\")\n",
    "else:\n",
    "    print (\"El numero \" + str(num_uno) + \" es impar\")"
   ]
  },
  {
   "cell_type": "markdown",
   "metadata": {},
   "source": [
    "##### Punto 5 \n",
    "Programa que lea tres números reales y determine si la suma de los dos primeros es mayor, menor o igual que el tercer número."
   ]
  },
  {
   "cell_type": "code",
   "execution_count": 46,
   "metadata": {},
   "outputs": [
    {
     "name": "stdout",
     "output_type": "stream",
     "text": [
      "La suma de 15.0 + 50.0 = 65.0 es mayor que 40.0\n"
     ]
    }
   ],
   "source": [
    "num_uno : float; num_dos : float; num_tres : float \n",
    "num_uno = float (input(\"Introduzca el primer numero\"))\n",
    "num_dos  = float (input(\"Introduzca el segundo numero\"))\n",
    "num_tres  = float( input(\"Introduzca el tercer numero\"))\n",
    "suma : float = (num_uno + num_dos)\n",
    "if suma > num_tres:\n",
    "    print (\"La suma de \"+str(num_uno)+ \" + \"+ str(num_dos) + \" = \"+ str(suma)+\" es mayor que \"+str(num_tres))\n",
    "else :\n",
    "    if (suma < num_tres):\n",
    "        print (\"La suma de \"+str(num_uno)+ \" + \"+str(num_dos) + \" = \"+ str(suma)+\" es menor que \"+str(num_tres))\n",
    "    else:\n",
    "        print (\"La suma de \"+str(num_uno)+ \" + \"+str(num_dos) + \" = \"+ str(suma)+\" es igual que \"+str(num_tres))"
   ]
  },
  {
   "cell_type": "markdown",
   "metadata": {},
   "source": [
    "##### Punto 7\n",
    "Escriba un programa que pida 5 números reales y calcule las siguientes operaciones:\n",
    "- El promedio\n",
    "- La mediana\n",
    "- El promedio multiplicativo (multilplica todos y luego calcula la raíz de la cantidad de operandos)\n",
    "- Ordenar los números de forma ascendente\n",
    "- Ordenar los números de forma descendente\n",
    "- La potencia del mayor número elevado al menor número\n",
    "- La raíz cúbica del menor número"
   ]
  },
  {
   "cell_type": "code",
   "execution_count": 9,
   "metadata": {},
   "outputs": [
    {
     "name": "stdout",
     "output_type": "stream",
     "text": [
      "El promedio de los numeros ingresados es: 40.2\n",
      "La mediana es: 32.0\n",
      "El promedio muntiplicativo es: 33.15937564076721\n",
      "Los numeros organizacos de forma ascedente: 12.0 , 24.0 , 32.0 , 58.0 , 75.0\n",
      "Los numeros organizados de forma descendente: 75.0 , 58.0 , 32.0 , 24.0 , 12.0\n",
      "La potencia del numero mayor 75.0 elevado al numero menor 12.0 es: 1.0033912775533338e+45\n",
      "La raiz cubica del numero menor 12.0 es: 2.2894284851066637\n"
     ]
    }
   ],
   "source": [
    "num_uno : float; num_dos : float; num_tres : float; num_cuatro : float; num_cinco : float; promedio : float; mediana : float; prom_multi : float\n",
    "potencia : float; raiz : float\n",
    "num_uno = float (input(\"Introduzca el primer numero: \"))\n",
    "num_dos  = float (input(\"Introduzca el segundo numero: \"))\n",
    "num_tres  = float( input(\"Introduzca el tercer numero: \"))\n",
    "num_cuatro = float (input(\"Introduzca el cuarto numero: \"))\n",
    "num_cinco  = float (input(\"Introduzca el quinto numero: \"))\n",
    "promedio = ((num_uno+num_dos+num_tres+num_cuatro+num_cinco)/5)\n",
    "print (\"El promedio de los numeros ingresados es: \"+str(promedio))\n",
    "if num_uno > num_dos :\n",
    "    num_uno , num_dos = num_dos , num_uno \n",
    "if num_dos > num_tres :\n",
    "    num_dos , num_tres = num_tres , num_dos\n",
    "if num_tres > num_cuatro :\n",
    "    num_tres , num_cuatro = num_cuatro, num_tres\n",
    "if num_cuatro > num_cinco :\n",
    "    num_cuatro , num_cinco = num_cinco , num_cuatro\n",
    "if num_uno > num_dos :\n",
    "    num_uno , num_dos = num_dos , num_uno\n",
    "if num_dos > num_tres :\n",
    "    num_dos , num_tres = num_tres , num_dos\n",
    "if num_tres > num_cuatro:\n",
    "    num_tres, num_cuatro = num_cuatro , num_tres\n",
    "if num_uno > num_dos :\n",
    "    num_uno, num_dos = num_dos , num_uno\n",
    "if num_dos > num_tres :\n",
    "    num_dos , num_tres = num_tres , num_dos\n",
    "if num_uno > num_dos :\n",
    "    num_uno , num_dos = num_dos , num_uno\n",
    "\n",
    "\n",
    "print (f\"La mediana es: {num_tres}\")\n",
    "prom_multi = (num_uno*num_dos*num_tres*num_cuatro*num_cinco)**(1/5)\n",
    "print (f\"El promedio muntiplicativo es: {prom_multi}\")\n",
    "print (f\"Los numeros organizacos de forma ascedente: {num_uno} , {num_dos} , {num_tres} , {num_cuatro} , {num_cinco}\")\n",
    "print (f\"Los numeros organizados de forma descendente: {num_cinco} , {num_cuatro} , {num_tres} , {num_dos} , {num_uno}\")\n",
    "potencia = (num_cinco ** (num_dos))\n",
    "print (f\"La potencia del numero mayor {num_cinco} elevado al numero menor {num_uno} es: {potencia}\")\n",
    "raiz = (num_uno ** (1/3))\n",
    "print (f\"La raiz cubica del numero menor {num_uno} es: {raiz}\")\n",
    "\n"
   ]
  },
  {
   "cell_type": "markdown",
   "metadata": {},
   "source": [
    "##### Punto 9\n",
    "Escriba un programa que reciba el nombre en minúsculas de un país de America y retorne la ciudad capital, si el país no pertenece al continente debe arrojar país no identificado.\n",
    "\n"
   ]
  },
  {
   "cell_type": "code",
   "execution_count": 8,
   "metadata": {},
   "outputs": [
    {
     "name": "stdout",
     "output_type": "stream",
     "text": [
      "Pais NO IDENTIFICADO\n"
     ]
    }
   ],
   "source": [
    "pais = input (\"Ingrese el nombre del país latinoamericano del cual quiere conocer su capital\")\n",
    "\n",
    "match pais:\n",
    "    case \"Colombia\":\n",
    "        print (\"La capital de {} es Bogota\".format(pais))\n",
    "    case \"Venezuela\":\n",
    "        print (\"La capital de {} es Caracas\".format(pais))\n",
    "    case \"Ecuador\":\n",
    "        print (\"La capital de {} es Quito\".format(pais))\n",
    "    case \"Peru\":\n",
    "        print (\"La capital de {} es Lima\".format(pais))\n",
    "    case \"Argentina\":\n",
    "        print (\"La capital de {} es Buenos Aires\".format(pais))\n",
    "    case \"Chile\":\n",
    "        print (\"La capital de {} es Santiago de Chile\".format(pais))\n",
    "    case \"Surinam\":\n",
    "        print (\"La capital de {} es La Parabarimo\".format(pais))\n",
    "    case \"Brasil\":\n",
    "        print (\"La capital de {} es Brasilia\".format(pais))\n",
    "    case \"Uruguay\":\n",
    "        print (\"La capital de {} es Montevideo\".format(pais))\n",
    "    case \"Paraguay\":\n",
    "        print (\"La capital de {} es Santiago de Chile\".format(pais))\n",
    "    case \"Bolivia\":\n",
    "        print (\"La capital de {} es Sucre\".format(pais))\n",
    "    case \"Trinidad y Tobago\":\n",
    "        print (\"La capital de {} es Puerto España\".format(pais))\n",
    "    case _:\n",
    "        print (\"Pais NO IDENTIFICADO\")"
   ]
  }
 ],
 "metadata": {
  "kernelspec": {
   "display_name": "Python 3",
   "language": "python",
   "name": "python3"
  },
  "language_info": {
   "codemirror_mode": {
    "name": "ipython",
    "version": 3
   },
   "file_extension": ".py",
   "mimetype": "text/x-python",
   "name": "python",
   "nbconvert_exporter": "python",
   "pygments_lexer": "ipython3",
   "version": "3.12.2"
  }
 },
 "nbformat": 4,
 "nbformat_minor": 2
}
